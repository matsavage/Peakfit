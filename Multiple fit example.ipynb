{
 "cells": [
  {
   "cell_type": "code",
   "execution_count": 2,
   "metadata": {
    "collapsed": false
   },
   "outputs": [
    {
     "name": "stdout",
     "output_type": "stream",
     "text": [
      "[[Fit Statistics]]\n",
      "    # function evals   = 65\n",
      "    # data points      = 301\n",
      "    # variables        = 4\n",
      "    chi-square         = 11.200\n",
      "    reduced chi-square = 0.038\n",
      "    Akaike info crit   = -982.639\n",
      "    Bayesian info crit = -967.811\n",
      "[[Variables]]\n",
      "    amp:     5.04704595 +/- 0.038644 (0.77%) (init= 10)\n",
      "    decay:   0.02555390 +/- 0.000447 (1.75%) (init= 0.1)\n",
      "    shift:  -0.10481396 +/- 0.009820 (9.37%) (init= 0)\n",
      "    omega:   2.00688067 +/- 0.003171 (0.16%) (init= 3)\n",
      "[[Correlations]] (unreported correlations are <  0.100)\n",
      "    C(shift, omega)              = -0.785 \n",
      "    C(amp, decay)                =  0.584 \n",
      "    C(amp, shift)                = -0.119 \n"
     ]
    },
    {
     "data": {
      "image/png": "[encoded data removed]",
      "text/plain": [
       "<matplotlib.figure.Figure at 0x9d14160>"
      ]
     },
     "metadata": {},
     "output_type": "display_data"
    }
   ],
   "source": [
    "#!/usr/bin/env python\n",
    "#<examples/doc_basic.py>\n",
    "from lmfit import minimize, Minimizer, Parameters, Parameter, report_fit\n",
    "import numpy as np\n",
    "\n",
    "# create data to be fitted\n",
    "x = np.linspace(0, 15, 301)\n",
    "data = (5. * np.sin(2 * x - 0.1) * np.exp(-x*x*0.025) +\n",
    "        np.random.normal(size=len(x), scale=0.2) )\n",
    "\n",
    "# define objective function: returns the array to be minimized\n",
    "def fcn2min(params, x, data):\n",
    "    \"\"\" model decaying sine wave, subtract data\"\"\"\n",
    "    amp = params['amp']\n",
    "    shift = params['shift']\n",
    "    omega = params['omega']\n",
    "    decay = params['decay']\n",
    "    model = amp * np.sin(x * omega + shift) * np.exp(-x*x*decay)\n",
    "    return model - data\n",
    "\n",
    "# create a set of Parameters\n",
    "params = Parameters()\n",
    "params.add('amp',   value= 10,  min=0)\n",
    "params.add('decay', value= 0.1)\n",
    "params.add('shift', value= 0.0, min=-np.pi/2., max=np.pi/2)\n",
    "params.add('omega', value= 3.0)\n",
    "\n",
    "\n",
    "# do fit, here with leastsq model\n",
    "minner = Minimizer(fcn2min, params, fcn_args=(x, data))\n",
    "kws  = {'options': {'maxiter':10}}\n",
    "result = minner.minimize()\n",
    "\n",
    "\n",
    "# calculate final result\n",
    "final = data + result.residual\n",
    "\n",
    "# write error report\n",
    "report_fit(result)\n",
    "\n",
    "# try to plot results\n",
    "try:\n",
    "    import pylab\n",
    "    %matplotlib inline\n",
    "    pylab.plot(x, data, 'k+')\n",
    "    pylab.plot(x, final, 'r')\n",
    "    pylab.show()\n",
    "except:\n",
    "    pass\n",
    "\n",
    "#<end of examples/doc_basic.py>"
   ]
  },
  {
   "cell_type": "code",
   "execution_count": null,
   "metadata": {
    "collapsed": true
   },
   "outputs": [],
   "source": []
  }
 ],
 "metadata": {
  "anaconda-cloud": {},
  "kernelspec": {
   "display_name": "Python [Root]",
   "language": "python",
   "name": "Python [Root]"
  },
  "language_info": {
   "codemirror_mode": {
    "name": "ipython",
    "version": 3
   },
   "file_extension": ".py",
   "mimetype": "text/x-python",
   "name": "python",
   "nbconvert_exporter": "python",
   "pygments_lexer": "ipython3",
   "version": "3.5.2"
  }
 },
 "nbformat": 4,
 "nbformat_minor": 0
}
